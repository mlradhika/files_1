{
 "cells": [
  {
   "cell_type": "code",
   "execution_count": 20,
   "metadata": {},
   "outputs": [
    {
     "name": "stdout",
     "output_type": "stream",
     "text": [
      "Overwriting abc.txt\n"
     ]
    }
   ],
   "source": [
    "%%writefile abc.txt\n",
    "hello world\n",
    "i love ipython\n",
    "jupyter notebook is so wonderful"
   ]
  },
  {
   "cell_type": "code",
   "execution_count": 21,
   "metadata": {},
   "outputs": [
    {
     "name": "stdout",
     "output_type": "stream",
     "text": [
      "hello world\n",
      "i love ipython\n",
      "jupyter notebook is so wonderful\n",
      "\n"
     ]
    }
   ],
   "source": [
    "f=open(\"abc.txt\") # file is opened in read mode\n",
    "print(f.read())#reads  entire file content and prints"
   ]
  },
  {
   "cell_type": "code",
   "execution_count": 22,
   "metadata": {},
   "outputs": [
    {
     "name": "stdout",
     "output_type": "stream",
     "text": [
      "hello world\n",
      "i love ipython\n",
      "jupyter notebook is so wonderful\n",
      "\n",
      "first letter= h\n"
     ]
    }
   ],
   "source": [
    "f=open(\"abc.txt\",\"r\") # file is opened in read mode\n",
    "str=f.read() #reads  entire file content and stores in str\n",
    "print(str)\n",
    "print(\"first letter=\",str[0])#prints first character"
   ]
  },
  {
   "cell_type": "code",
   "execution_count": 23,
   "metadata": {},
   "outputs": [
    {
     "name": "stdout",
     "output_type": "stream",
     "text": [
      "hello world\n",
      "\n",
      "i love ipython\n",
      "\n",
      "jupyter notebook is so wonderful\n",
      "\n",
      "str= \n"
     ]
    }
   ],
   "source": [
    "f=open(\"abc.txt\") # file is opened in read mode\n",
    "str=f.readline()  #reads first ine\n",
    "print(str)\n",
    "str=f.readline()  #reads second ine\n",
    "print(str)\n",
    "str=f.readline()  #reads third line\n",
    "print(str)\n",
    "str=f.readline()   #reads nothing as no more line are there\n",
    "print('str=',str)\n",
    "f.close()\n"
   ]
  },
  {
   "cell_type": "code",
   "execution_count": 24,
   "metadata": {},
   "outputs": [
    {
     "name": "stdout",
     "output_type": "stream",
     "text": [
      "testo world\n",
      "i love ipython\n",
      "jupyter notebook is so wonderful\n",
      "\n"
     ]
    }
   ],
   "source": [
    "f=open(\"abc.txt\",\"r+\")     # file is opened in read and write mode\n",
    "f.write(\"test\")            #cursor  is in the beginning & overwrites four characters \"hell\" with \"test\"\n",
    "f.seek(0)                 # pointer  is moved to beginning of file  and is ready to read from beginning\n",
    "print(f.read())"
   ]
  },
  {
   "cell_type": "code",
   "execution_count": 25,
   "metadata": {},
   "outputs": [
    {
     "name": "stdout",
     "output_type": "stream",
     "text": [
      "testo world\n",
      "i love ipython\n",
      "jupyter notebook is so wonderful\n",
      "test\n"
     ]
    }
   ],
   "source": [
    "f=open(\"abc.txt\",\"r+\") # file is opened in read and write mode\n",
    "str=f.read()           #pointer reached end\n",
    "f.write(\"test\")        #pointer is in the end and dn \"test\" is written now in the end of text file\n",
    "f.seek(0)              #reading pointer is shifted to beginning  to enable reading from beginning\n",
    "str=f.read()\n",
    "print(str)"
   ]
  },
  {
   "cell_type": "code",
   "execution_count": 28,
   "metadata": {},
   "outputs": [
    {
     "name": "stdout",
     "output_type": "stream",
     "text": [
      "<class 'list'>\n",
      "testo world\n",
      "\n",
      "i love ipython\n",
      "\n",
      "jupyter notebook is so wonderful\n",
      "\n",
      "test\n"
     ]
    }
   ],
   "source": [
    "f=open(\"abc.txt\") #file is opened in read mode\n",
    "str=f.readlines()\n",
    "print(type(str))\n",
    "print(str[0])\n",
    "print(str[1])\n",
    "print(str[2])\n",
    "print(str[3])"
   ]
  },
  {
   "cell_type": "code",
   "execution_count": 7,
   "metadata": {},
   "outputs": [
    {
     "name": "stdout",
     "output_type": "stream",
     "text": [
      "Hi welcome 11 F1\n",
      "This is a text file\n",
      "third line\n",
      "\n"
     ]
    }
   ],
   "source": [
    "f=open(\"c:\\\\users\\\\lenovo\\\\desktop\\\\test.txt\") #file is opened in read  mode\n",
    "print(f.read())\n",
    "f.close()\n"
   ]
  },
  {
   "cell_type": "code",
   "execution_count": 32,
   "metadata": {},
   "outputs": [
    {
     "name": "stdout",
     "output_type": "stream",
     "text": [
      "file handling\n"
     ]
    }
   ],
   "source": [
    "f=open(\"c:\\\\users\\\\lenovo\\\\desktop\\\\test.txt\",\"w\")  #file is opened in write mode\n",
    "f.write(\"file handling\") #overwrites the entire content with two words \"file handing\"\n",
    "f.close()\n",
    "f=open(\"c:\\\\users\\\\lenovo\\\\desktop\\\\test.txt\",\"r\") #file is opened in read mode\n",
    "print(f.read())"
   ]
  },
  {
   "cell_type": "code",
   "execution_count": 33,
   "metadata": {},
   "outputs": [
    {
     "name": "stdout",
     "output_type": "stream",
     "text": [
      "file handling\n",
      "more words\n"
     ]
    }
   ],
   "source": [
    "f=open(\"c:\\\\users\\\\lenovo\\\\desktop\\\\test.txt\",\"a\") #file is opened in append mode\n",
    "f.write(\"\\nmore words\")\n",
    "f.close()\n",
    "f=open(\"c:\\\\users\\\\lenovo\\\\desktop\\\\test.txt\",\"r\")\n",
    "print(f.read())"
   ]
  },
  {
   "cell_type": "code",
   "execution_count": 34,
   "metadata": {},
   "outputs": [
    {
     "name": "stdout",
     "output_type": "stream",
     "text": [
      "file handling\n",
      "more words\n",
      "file handling\n",
      "more words\n",
      "fourth line\n"
     ]
    }
   ],
   "source": [
    "f=open(\"c:\\\\users\\\\lenovo\\\\desktop\\\\test.txt\",\"r+\")  #file is opened in read and write mode\n",
    "print(f.read())\n",
    "\n",
    "f.write(\"\\nfourth line\")\n",
    "f.seek(0)\n",
    "\n",
    "print(f.read())\n",
    "f.close()\n"
   ]
  },
  {
   "cell_type": "code",
   "execution_count": 35,
   "metadata": {},
   "outputs": [
    {
     "name": "stdout",
     "output_type": "stream",
     "text": [
      "testo world\n",
      "i love ipython\n",
      "jupyter notebook is so wonderful\n",
      "test\n",
      "testo\n"
     ]
    }
   ],
   "source": [
    "f=open(\"abc.txt\")\n",
    "str=f.read()\n",
    "print(str)\n",
    "print(str[0:5])\n",
    "f.close()"
   ]
  },
  {
   "cell_type": "code",
   "execution_count": 36,
   "metadata": {},
   "outputs": [
    {
     "name": "stdout",
     "output_type": "stream",
     "text": [
      "testo world\n",
      "\n"
     ]
    }
   ],
   "source": [
    "f=open(\"abc.txt\")\n",
    "print(f.readline())\n",
    "f.close()"
   ]
  },
  {
   "cell_type": "code",
   "execution_count": 37,
   "metadata": {},
   "outputs": [
    {
     "name": "stdout",
     "output_type": "stream",
     "text": [
      "testo world\n",
      "\n",
      "i love ipython\n",
      "\n",
      "jupyter notebook is so wonderful\n",
      "\n",
      "test\n"
     ]
    }
   ],
   "source": [
    "f=open(\"abc.txt\")\n",
    "print(f.readline())\n",
    "print(f.readline())\n",
    "print(f.readline())\n",
    "print(f.readline())\n",
    "f.close()"
   ]
  },
  {
   "cell_type": "code",
   "execution_count": 39,
   "metadata": {},
   "outputs": [
    {
     "name": "stdout",
     "output_type": "stream",
     "text": [
      "str1= testo world\n",
      "\n",
      "str2= i love ipython\n",
      "\n",
      "str3= jupyter notebook is so wonderful\n",
      "\n",
      "str4= test\n",
      "str5= \n"
     ]
    }
   ],
   "source": [
    "f=open(\"abc.txt\")\n",
    "str1=f.readline()\n",
    "print('str1=',str1)\n",
    "str2=f.readline()\n",
    "print('str2=',str2)\n",
    "str3=f.readline()\n",
    "print('str3=',str3)\n",
    "str4=f.readline()\n",
    "print('str4=',str4)\n",
    "str5=f.readline()\n",
    "print('str5=',str5)\n",
    "f.close()"
   ]
  },
  {
   "cell_type": "code",
   "execution_count": 40,
   "metadata": {},
   "outputs": [
    {
     "name": "stdout",
     "output_type": "stream",
     "text": [
      "tes\n",
      "to\n",
      " world\n",
      "\n",
      "i love ipython\n",
      "\n"
     ]
    }
   ],
   "source": [
    "f=open(\"abc.txt\")\n",
    "print(f.readline(3))\n",
    "print(f.readline(2))\n",
    "print(f.readline())\n",
    "print(f.readline())\n",
    "f.close()"
   ]
  },
  {
   "cell_type": "code",
   "execution_count": 41,
   "metadata": {},
   "outputs": [
    {
     "name": "stdout",
     "output_type": "stream",
     "text": [
      "['testo world\\n', 'i love ipython\\n', 'jupyter notebook is so wonderful\\n', 'test']\n"
     ]
    }
   ],
   "source": [
    "f=open(\"abc.txt\")\n",
    "print(f.readlines())"
   ]
  },
  {
   "cell_type": "code",
   "execution_count": 44,
   "metadata": {},
   "outputs": [
    {
     "name": "stdout",
     "output_type": "stream",
     "text": [
      "<class 'list'>\n",
      "testo world\n",
      "i love ipython\n",
      "jupyter notebook is so wonderful\n",
      "test\n"
     ]
    }
   ],
   "source": [
    "f=open(\"abc.txt\")\n",
    "str=f.readlines()\n",
    "print(type(str))\n",
    "print(str[0],str[1],str[2],str[3],sep='')"
   ]
  },
  {
   "cell_type": "code",
   "execution_count": 49,
   "metadata": {},
   "outputs": [
    {
     "name": "stdout",
     "output_type": "stream",
     "text": [
      "testo world\n",
      "\n",
      "i love ipython\n",
      "\n",
      "jupyter notebook is so wonderful\n",
      "\n",
      "test\n"
     ]
    }
   ],
   "source": [
    "f=open(\"abc.txt\")\n",
    "for i in f:\n",
    "    print(i)\n",
    "f.close()"
   ]
  },
  {
   "cell_type": "code",
   "execution_count": 50,
   "metadata": {},
   "outputs": [
    {
     "name": "stdout",
     "output_type": "stream",
     "text": [
      "testo world\n",
      "\n",
      "i love ipython\n",
      "\n",
      "jupyter notebook is so wonderful\n",
      "\n",
      "test\n"
     ]
    }
   ],
   "source": [
    "f=open(\"abc.txt\")\n",
    "for i in f.readlines():\n",
    "    print(i)\n",
    "f.close()"
   ]
  },
  {
   "cell_type": "code",
   "execution_count": 47,
   "metadata": {},
   "outputs": [
    {
     "ename": "FileNotFoundError",
     "evalue": "[Errno 2] No such file or directory: 'abcd.txt'",
     "output_type": "error",
     "traceback": [
      "\u001b[1;31m---------------------------------------------------------------------------\u001b[0m",
      "\u001b[1;31mFileNotFoundError\u001b[0m                         Traceback (most recent call last)",
      "\u001b[1;32m<ipython-input-47-96665313d27b>\u001b[0m in \u001b[0;36m<module>\u001b[1;34m\u001b[0m\n\u001b[1;32m----> 1\u001b[1;33m \u001b[0mf\u001b[0m\u001b[1;33m=\u001b[0m\u001b[0mopen\u001b[0m\u001b[1;33m(\u001b[0m\u001b[1;34m\"abcd.txt\"\u001b[0m\u001b[1;33m,\u001b[0m\u001b[1;34m\"r\"\u001b[0m\u001b[1;33m)\u001b[0m\u001b[1;33m\u001b[0m\u001b[1;33m\u001b[0m\u001b[0m\n\u001b[0m\u001b[0;32m      2\u001b[0m \u001b[0mprint\u001b[0m\u001b[1;33m(\u001b[0m\u001b[0mf\u001b[0m\u001b[1;33m.\u001b[0m\u001b[0mread\u001b[0m\u001b[1;33m(\u001b[0m\u001b[1;33m)\u001b[0m\u001b[1;33m)\u001b[0m\u001b[1;33m\u001b[0m\u001b[1;33m\u001b[0m\u001b[0m\n\u001b[0;32m      3\u001b[0m \u001b[0mf\u001b[0m\u001b[1;33m.\u001b[0m\u001b[0mclose\u001b[0m\u001b[1;33m(\u001b[0m\u001b[1;33m)\u001b[0m\u001b[1;33m\u001b[0m\u001b[1;33m\u001b[0m\u001b[0m\n",
      "\u001b[1;31mFileNotFoundError\u001b[0m: [Errno 2] No such file or directory: 'abcd.txt'"
     ]
    }
   ],
   "source": [
    "f=open(\"abcd.txt\",\"r\")#file is not exisiting so error\n",
    "print(f.read())\n",
    "f.close()"
   ]
  },
  {
   "cell_type": "code",
   "execution_count": 51,
   "metadata": {},
   "outputs": [
    {
     "name": "stdout",
     "output_type": "stream",
     "text": [
      "testo world\n",
      "i love ipython\n",
      "jupyter notebook is so wonderful\n",
      "test\n"
     ]
    }
   ],
   "source": [
    "f=open(\"abc.txt\",\"r\")\n",
    "print(f.read())"
   ]
  },
  {
   "cell_type": "code",
   "execution_count": 52,
   "metadata": {},
   "outputs": [
    {
     "name": "stdout",
     "output_type": "stream",
     "text": [
      "line2\n"
     ]
    }
   ],
   "source": [
    "f=open(\"abc.txt\",\"w\")\n",
    "f.write(\"line2\")\n",
    "f.close()\n",
    "f=open(\"abc.txt\",\"r\")\n",
    "print(f.read())\n",
    "f.close()"
   ]
  },
  {
   "cell_type": "code",
   "execution_count": 53,
   "metadata": {},
   "outputs": [
    {
     "name": "stdout",
     "output_type": "stream",
     "text": [
      "line3\n"
     ]
    }
   ],
   "source": [
    "f=open(\"abc.txt\",\"w+\")\n",
    "f.write(\"line3\")\n",
    "f.seek(0)\n",
    "print(f.read())\n",
    "f.close()"
   ]
  },
  {
   "cell_type": "code",
   "execution_count": 54,
   "metadata": {},
   "outputs": [
    {
     "name": "stdout",
     "output_type": "stream",
     "text": [
      "line3\n",
      "line4\n"
     ]
    }
   ],
   "source": [
    "f=open(\"abc.txt\",\"a\")\n",
    "f.write(\"\\nline4\")\n",
    "f.close()\n",
    "f=open(\"abc.txt\",\"r\")\n",
    "print(f.read())\n",
    "f.close()"
   ]
  },
  {
   "cell_type": "code",
   "execution_count": 55,
   "metadata": {},
   "outputs": [
    {
     "name": "stdout",
     "output_type": "stream",
     "text": [
      "line3\n",
      "line4\n",
      "line5\n"
     ]
    }
   ],
   "source": [
    "f=open(\"abc.txt\",\"a+\")\n",
    "f.write(\"\\nline5\")\n",
    "f.seek(0)\n",
    "print(f.read())\n",
    "f.close()"
   ]
  },
  {
   "cell_type": "code",
   "execution_count": 93,
   "metadata": {},
   "outputs": [
    {
     "name": "stdout",
     "output_type": "stream",
     "text": [
      "Overwriting book.txt\n"
     ]
    }
   ],
   "source": [
    "%%writefile book.txt\n",
    "Python is interactive language. It is case sensitive language.\n",
    "It makes the difference between uppercase and lowercase letters.\n",
    "It is official language of google"
   ]
  },
  {
   "cell_type": "code",
   "execution_count": 56,
   "metadata": {},
   "outputs": [
    {
     "name": "stdout",
     "output_type": "stream",
     "text": [
      "Python is interactive language. It is case sensitive language.\n",
      "It makes the difference between uppercase and lowercase letters.\n",
      "It is official language of google\n",
      "\n"
     ]
    }
   ],
   "source": [
    "fin=open(\"book.txt\")\n",
    "str=fin.read( ) # reads entire content\n",
    "print(str)\n",
    "fin.close( )"
   ]
  },
  {
   "cell_type": "code",
   "execution_count": 57,
   "metadata": {},
   "outputs": [
    {
     "name": "stdout",
     "output_type": "stream",
     "text": [
      "Python is interactive language. It is case sensitive language.\n",
      "It makes the difference between uppercase and lowercase letters.\n",
      "It is official language of google\n",
      "\n"
     ]
    }
   ],
   "source": [
    "fin=open(\"book.txt\")\n",
    "\n",
    "print(fin.read( ) )\n",
    "fin.close( )"
   ]
  },
  {
   "cell_type": "code",
   "execution_count": 58,
   "metadata": {},
   "outputs": [
    {
     "name": "stdout",
     "output_type": "stream",
     "text": [
      "Python is \n"
     ]
    }
   ],
   "source": [
    "fin=open(\"Book.txt\",'r')\n",
    "str=fin.read(10) # reads first 10 characters\n",
    "print(str)\n",
    "fin.close( )"
   ]
  },
  {
   "cell_type": "code",
   "execution_count": 59,
   "metadata": {
    "scrolled": true
   },
   "outputs": [
    {
     "name": "stdout",
     "output_type": "stream",
     "text": [
      "Python is interactive language. It is case sensitive language.\n",
      "\n"
     ]
    }
   ],
   "source": [
    "fin=open(\"Book.txt\",'r')\n",
    "str=fin.readline( ) # reads first line\n",
    "print(str)\n",
    "fin.close( )"
   ]
  },
  {
   "cell_type": "code",
   "execution_count": 61,
   "metadata": {},
   "outputs": [
    {
     "name": "stdout",
     "output_type": "stream",
     "text": [
      "str1= Python is interactive language. It is case sensitive language.\n",
      "\n",
      "str2= It makes the difference between uppercase and lowercase letters.\n",
      "It is official language of google\n",
      "\n"
     ]
    }
   ],
   "source": [
    "fin=open(\"Book.txt\",'r')\n",
    "str1=fin.readline( ) # reads first line\n",
    "str2=fin.read( ) #entire thing from current posiiton\n",
    "\n",
    "print('str1=',str1)\n",
    "print('str2=',str2)\n",
    "fin.close( )"
   ]
  },
  {
   "cell_type": "code",
   "execution_count": 62,
   "metadata": {},
   "outputs": [
    {
     "name": "stdout",
     "output_type": "stream",
     "text": [
      "str1= Python is interactive language. It is case sensitive language.\n",
      "\n",
      "str2= It makes the difference between uppercase and lowercase letters.\n",
      "It is official language of google\n",
      "\n",
      "str3= \n"
     ]
    }
   ],
   "source": [
    "fin=open(\"Book.txt\",'r')\n",
    "str1=fin.readline( ) # reads first line\n",
    "str2=fin.read( ) #entire thing from current posiiton\n",
    "str3=fin.readline( ) # tries to read next line\n",
    "\n",
    "print('str1=',str1)\n",
    "print('str2=',str2)\n",
    "print('str3=',str3)\n",
    "fin.close( )"
   ]
  },
  {
   "cell_type": "code",
   "execution_count": 100,
   "metadata": {},
   "outputs": [
    {
     "name": "stdout",
     "output_type": "stream",
     "text": [
      "['Python is interactive language. It is case sensitive language.\\n', 'It makes the difference between uppercase and lowercase letters.\\n', 'It is official language of google\\n']\n"
     ]
    }
   ],
   "source": [
    "fin=open(\"Book.txt\",'r')\n",
    "str=fin.readlines()\n",
    "print(str)\n",
    "fin.close( )"
   ]
  },
  {
   "cell_type": "code",
   "execution_count": 68,
   "metadata": {},
   "outputs": [
    {
     "name": "stdout",
     "output_type": "stream",
     "text": [
      "Python is interactive language. It is case sensitive language.\n",
      "It makes the difference between uppercase and lowercase letters.\n",
      "It is official language of google\n"
     ]
    }
   ],
   "source": [
    "fin=open(\"Book.txt\",'r')\n",
    "for str in fin:\n",
    "    print(str,end='')\n",
    "fin.close( )"
   ]
  },
  {
   "cell_type": "code",
   "execution_count": 69,
   "metadata": {},
   "outputs": [
    {
     "name": "stdout",
     "output_type": "stream",
     "text": [
      "Overwriting sample.txt\n"
     ]
    }
   ],
   "source": [
    "%%writefile sample.txt\n",
    "India is my country.\n",
    "My school name is PSBB.\n",
    "I am in 12 standard."
   ]
  },
  {
   "cell_type": "code",
   "execution_count": 72,
   "metadata": {},
   "outputs": [
    {
     "name": "stdout",
     "output_type": "stream",
     "text": [
      "s1 :  India is my cou\n",
      "s2 : ntry.\n",
      "My s\n",
      "s3 : chool name is PSBB.\n",
      "I am in 12 standard.\n",
      "\n"
     ]
    }
   ],
   "source": [
    "f=open('sample.txt','r')\n",
    "s1=f.read(15)\n",
    "s2=f.read(10)\n",
    "s3=f.read()\n",
    "print(\"s1 : \",s1)\n",
    "print(\"s2 :\",s2)\n",
    "print(\"s3 :\",s3)\n",
    "f.close()"
   ]
  },
  {
   "cell_type": "code",
   "execution_count": 73,
   "metadata": {},
   "outputs": [
    {
     "name": "stdout",
     "output_type": "stream",
     "text": [
      "first line:  India is my country.\n",
      "My school name is PSBB.\n",
      "I am in 12 standard.\n",
      "\n",
      "\n",
      "Second line:  \n",
      "\n",
      "Third line:  \n"
     ]
    }
   ],
   "source": [
    "f=open('sample.txt','r')\n",
    "s1=f.read()\n",
    "s2=f.read(10)\n",
    "s3=f.read(15)\n",
    "print(\"first line: \",s1)\n",
    "print(\"\\nSecond line: \",s2)\n",
    "print(\"\\nThird line: \",s3)\n",
    "f.close()"
   ]
  },
  {
   "cell_type": "code",
   "execution_count": 74,
   "metadata": {},
   "outputs": [
    {
     "name": "stdout",
     "output_type": "stream",
     "text": [
      "The first line:  India is my country.\n",
      "\n",
      "The second line:  My school name is PSBB.\n",
      "\n",
      "The third line:  I am in\n"
     ]
    }
   ],
   "source": [
    "f=open('sample.txt','r')\n",
    "s1=f.readline()\n",
    "s2=f.readline()\n",
    "s3=f.readline(7)\n",
    "print(\"The first line: \",s1)\n",
    "print(\"The second line: \",s2)\n",
    "print(\"The third line: \",s3)\n",
    "f.close()"
   ]
  },
  {
   "cell_type": "code",
   "execution_count": 75,
   "metadata": {},
   "outputs": [
    {
     "name": "stdout",
     "output_type": "stream",
     "text": [
      "India is my country.\n",
      "My school name is PSBB.\n",
      "I am in 12 standard.\n"
     ]
    }
   ],
   "source": [
    "f=open('sample.txt','r')\n",
    "str=\" \"\n",
    "while str:\n",
    "    str=f.readline()\n",
    "    print(str,end='')\n",
    "f.close()"
   ]
  },
  {
   "cell_type": "code",
   "execution_count": 76,
   "metadata": {},
   "outputs": [
    {
     "name": "stdout",
     "output_type": "stream",
     "text": [
      "India is my country.\n",
      "My school name is PSBB.\n",
      "I am in 12 standard.\n"
     ]
    }
   ],
   "source": [
    "f=open('sample.txt','r')\n",
    "for i in f:\n",
    "    print(i,end='')\n",
    "f.close()"
   ]
  },
  {
   "cell_type": "code",
   "execution_count": 77,
   "metadata": {},
   "outputs": [
    {
     "name": "stdout",
     "output_type": "stream",
     "text": [
      "['India is my country.\\n', 'My school name is PSBB.\\n', 'I am in 12 standard.\\n']\n",
      "India is my country.\n",
      "\n"
     ]
    }
   ],
   "source": [
    "f=open('sample.txt','r')\n",
    "str=f.readlines()\n",
    "print(str)\n",
    "print(str[0])\n",
    "f.close()"
   ]
  },
  {
   "cell_type": "code",
   "execution_count": 78,
   "metadata": {},
   "outputs": [
    {
     "name": "stdout",
     "output_type": "stream",
     "text": [
      "138\n"
     ]
    }
   ],
   "source": [
    "#Program-1: Count the number of characters from a file. (Don’t count white spaces)\n",
    "fin=open(\"Book.txt\",'r')\n",
    "str=fin.read()\n",
    "L=str.split()\n",
    "count_char=0\n",
    "for i in L:\n",
    "    count_char=count_char+len(i)\n",
    "print(count_char)\n",
    "fin.close( )\n"
   ]
  },
  {
   "cell_type": "code",
   "execution_count": 82,
   "metadata": {},
   "outputs": [
    {
     "name": "stdout",
     "output_type": "stream",
     "text": [
      "24\n"
     ]
    }
   ],
   "source": [
    "#Program-2: Count the number of words in a file.\n",
    "fin=open(\"Book.txt\",'r')\n",
    "str=fin.read()\n",
    "L=str.split()\n",
    "count_words=0\n",
    "for i in L:\n",
    "    count_words=count_words+1\n",
    "print(count_words)\n",
    "fin.close( )\n"
   ]
  },
  {
   "cell_type": "code",
   "execution_count": 83,
   "metadata": {},
   "outputs": [
    {
     "name": "stdout",
     "output_type": "stream",
     "text": [
      "3\n"
     ]
    }
   ],
   "source": [
    "#Program-3: Count number of lines in a text file.\n",
    "fin=open(\"Book.txt\",'r')\n",
    "str=fin.readlines()\n",
    "count_line=0\n",
    "for i in str:\n",
    "    count_line=count_line+1\n",
    "print(count_line)\n",
    "fin.close( )\n"
   ]
  },
  {
   "cell_type": "code",
   "execution_count": 84,
   "metadata": {},
   "outputs": [
    {
     "name": "stdout",
     "output_type": "stream",
     "text": [
      "56\n"
     ]
    }
   ],
   "source": [
    "#Program-4: Count number of vowels in a text file.\n",
    "fin=open(\"Book.txt\",'r')\n",
    "str=fin.read()\n",
    "count=0\n",
    "for i in str:\n",
    "    if i=='a' or i=='e' or i=='i' or i=='o' or i=='u':\n",
    "        count=count+1\n",
    "print(count)\n",
    "fin.close( )\n"
   ]
  },
  {
   "cell_type": "code",
   "execution_count": 87,
   "metadata": {},
   "outputs": [
    {
     "name": "stdout",
     "output_type": "stream",
     "text": [
      "3\n"
     ]
    }
   ],
   "source": [
    "#Program- 5  : Count the number of ‘is’ word in a text file.\n",
    "fin=open(\"Book.txt\",'r')\n",
    "str=fin.read()\n",
    "L=str.split()\n",
    "count=0\n",
    "for i in L:\n",
    "    if i=='is':\n",
    "        count=count+1\n",
    "print(count)\n",
    "fin.close( )\n"
   ]
  },
  {
   "cell_type": "code",
   "execution_count": 48,
   "metadata": {},
   "outputs": [
    {
     "name": "stdout",
     "output_type": "stream",
     "text": [
      "Pytho\n"
     ]
    }
   ],
   "source": [
    "fin=open(\"Book.txt\",'r')\n",
    "print(fin.readline(5))#reads first 5 letters of current line,ie first line  from current position ie beginning\n"
   ]
  },
  {
   "cell_type": "code",
   "execution_count": 49,
   "metadata": {},
   "outputs": [
    {
     "name": "stdout",
     "output_type": "stream",
     "text": [
      "Pytho\n"
     ]
    }
   ],
   "source": [
    "fin=open(\"Book.txt\",'r')\n",
    "print(fin.read(5)) #reads first 5 letters  from current position ie beginning\n"
   ]
  },
  {
   "cell_type": "code",
   "execution_count": 89,
   "metadata": {},
   "outputs": [
    {
     "name": "stdout",
     "output_type": "stream",
     "text": [
      "Python is interactive language. It is case sensitive language.\n",
      " It makes the difference between uppercase and lowercase letters.\n",
      " It is official language of google\n",
      "\n"
     ]
    }
   ],
   "source": [
    "fin=open(\"Book.txt\",'r')\n",
    "str=fin.readlines()\n",
    "print(str[0],str[1],str[2])\n"
   ]
  },
  {
   "cell_type": "code",
   "execution_count": null,
   "metadata": {},
   "outputs": [],
   "source": []
  }
 ],
 "metadata": {
  "kernelspec": {
   "display_name": "Python 3",
   "language": "python",
   "name": "python3"
  },
  "language_info": {
   "codemirror_mode": {
    "name": "ipython",
    "version": 3
   },
   "file_extension": ".py",
   "mimetype": "text/x-python",
   "name": "python",
   "nbconvert_exporter": "python",
   "pygments_lexer": "ipython3",
   "version": "3.7.6"
  }
 },
 "nbformat": 4,
 "nbformat_minor": 4
}
